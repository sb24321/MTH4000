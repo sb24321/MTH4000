{
 "cells": [
  {
   "cell_type": "markdown",
   "metadata": {},
   "source": [
    "Creates a traditional caesar cipher on a lowercase message."
   ]
  },
  {
   "cell_type": "code",
   "execution_count": null,
   "metadata": {},
   "outputs": [],
   "source": [
    "def cc(message: str, shift: int) -> str:\n",
    "    \n",
    "    # checks that the shift is in the correct interval\n",
    "    if shift < 0 or not isinstance(shift, int):\n",
    "        raise Exception(\"Shift must be a natural number including 0.\")\n",
    "    \n",
    "    encrypted_message = ''\n",
    "    \n",
    "    # ensures that the message is lowercase.\n",
    "    message = message.lower()\n",
    "    \n",
    "    # iterates through and shifts the letter by the given value.\n",
    "    for letter in message:\n",
    "        ascii_letter = ord(letter) + shift\n",
    "        \n",
    "        # if the letter exceeds 'z' then we will go back to 'a'\n",
    "        if ascii_letter > ord('z'):\n",
    "            ascii_letter = (ascii_letter % ord('z')) + ord('a') - 1\n",
    "        encrypted_message += chr(ascii_letter)\n",
    "\n",
    "    return encrypted_message"
   ]
  }
 ],
 "metadata": {
  "language_info": {
   "name": "python"
  }
 },
 "nbformat": 4,
 "nbformat_minor": 2
}
